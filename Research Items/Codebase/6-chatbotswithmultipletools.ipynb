{
 "cells": [
  {
   "cell_type": "code",
   "execution_count": 1,
   "metadata": {},
   "outputs": [],
   "source": [
    "from langchain_community.tools import ArxivQueryRun,WikipediaQueryRun\n",
    "from langchain_community.utilities import WikipediaAPIWrapper,ArxivAPIWrapper"
   ]
  },
  {
   "cell_type": "code",
   "execution_count": 2,
   "metadata": {},
   "outputs": [
    {
     "name": "stdout",
     "output_type": "stream",
     "text": [
      "arxiv\n"
     ]
    }
   ],
   "source": [
    "api_wrapper_arxiv=ArxivAPIWrapper(top_k_results=2,doc_content_chars_max=500)\n",
    "arxiv=ArxivQueryRun(api_wrapper=api_wrapper_arxiv)\n",
    "print(arxiv.name)"
   ]
  },
  {
   "cell_type": "code",
   "execution_count": 3,
   "metadata": {},
   "outputs": [
    {
     "data": {
      "text/plain": [
       "\"Published: 2024-07-22\\nTitle: Attention Is All You Need But You Don't Need All Of It For Inference of Large Language Models\\nAuthors: Georgy Tyukin, Gbetondji J-S Dovonon, Jean Kaddour, Pasquale Minervini\\nSummary: The inference demand for LLMs has skyrocketed in recent months, and serving\\nmodels with low latencies remains challenging due to the quadratic input length\\ncomplexity of the attention layers. In this work, we investigate the effect of\\ndropping MLP and attention layers at inference time o\""
      ]
     },
     "execution_count": 3,
     "metadata": {},
     "output_type": "execute_result"
    }
   ],
   "source": [
    "arxiv.invoke(\"Attention iss all you need\")"
   ]
  },
  {
   "cell_type": "code",
   "execution_count": 4,
   "metadata": {},
   "outputs": [
    {
     "data": {
      "text/plain": [
       "'wikipedia'"
      ]
     },
     "execution_count": 4,
     "metadata": {},
     "output_type": "execute_result"
    }
   ],
   "source": [
    "api_wrapper_wiki=WikipediaAPIWrapper(top_k_results=1,doc_content_chars_max=500)\n",
    "wiki=WikipediaQueryRun(api_wrapper=api_wrapper_wiki)\n",
    "wiki.name"
   ]
  },
  {
   "cell_type": "code",
   "execution_count": 5,
   "metadata": {},
   "outputs": [
    {
     "data": {
      "text/plain": [
       "'Page: Machine learning\\nSummary: Machine learning (ML) is a field of study in artificial intelligence concerned with the development and study of statistical algorithms that can learn from data and generalise to unseen data, and thus perform tasks without explicit instructions. Within a subdiscipline in machine learning, advances in the field of deep learning have allowed neural networks, a class of statistical algorithms, to surpass many previous machine learning approaches in performance.\\nML fi'"
      ]
     },
     "execution_count": 5,
     "metadata": {},
     "output_type": "execute_result"
    }
   ],
   "source": [
    "wiki.invoke(\"What is machine learning\")"
   ]
  },
  {
   "cell_type": "code",
   "execution_count": 6,
   "metadata": {},
   "outputs": [],
   "source": [
    "from dotenv import load_dotenv\n",
    "load_dotenv()\n",
    "\n",
    "import os\n",
    "\n",
    "os.environ[\"TAVILY_API_KEY\"]=os.getenv(\"TAVILY_API_KEY\")\n",
    "os.environ[\"GROQ_API_KEY\"]=os.getenv(\"GROQ_API_KEY\")\n",
    "\n"
   ]
  },
  {
   "cell_type": "code",
   "execution_count": 7,
   "metadata": {},
   "outputs": [
    {
     "name": "stderr",
     "output_type": "stream",
     "text": [
      "/var/folders/9g/tnv_kfvn5kx8s1x4rjvf1gmr0000gn/T/ipykernel_15229/3584238.py:4: LangChainDeprecationWarning: The class `TavilySearchResults` was deprecated in LangChain 0.3.25 and will be removed in 1.0. An updated version of the class exists in the :class:`~langchain-tavily package and should be used instead. To use it run `pip install -U :class:`~langchain-tavily` and import as `from :class:`~langchain_tavily import TavilySearch``.\n",
      "  tavily = TavilySearchResults()\n"
     ]
    }
   ],
   "source": [
    "### Tavily Search Tool\n",
    "from langchain_community.tools.tavily_search import TavilySearchResults\n",
    "\n",
    "tavily = TavilySearchResults()"
   ]
  },
  {
   "cell_type": "code",
   "execution_count": 8,
   "metadata": {},
   "outputs": [
    {
     "data": {
      "text/plain": [
       "[{'title': 'Latest AI Breakthroughs and News: May-June 2025 - Crescendo.ai',\n",
       "  'url': 'https://www.crescendo.ai/news/latest-ai-news-and-updates',\n",
       "  'content': '### **Meta Platforms Overhauls Content Moderation Policies**\\n\\n**Date:** March 3, 2025\\n\\n**Summary:** **Meta**, led by CEO **Mark Zuckerberg**, has implemented significant policy changes, including replacing third-party fact-checking with **community notes** and relaxing hate speech policies. These changes aim to promote open discussions but have sparked criticism from various communities. [...] **Date:** March 5, 2025\\n\\n**Summary:** **Andrew Barto** and **Richard Sutton**, known for their groundbreaking work in **reinforcement learning**, have been awarded the prestigious **2025 Turing Award**. Their contributions have shaped modern AI techniques used in robotics, game theory, and autonomous systems.\\n\\n**Source:** [The New York Times](https://www.nytimes.com/2025/03/05/technology/turing-award-andrew-barto-richard-sutton.html) [...] **Summary:** **Microsoft** is reportedly working on **AI reasoning models** to rival OpenAIâ\\x80\\x99s advanced models. These new AI systems focus on improved **logical reasoning and decision-making**, positioning Microsoft as a major competitor in **general AI development**.\\n\\n**Source:** [Reuters](https://www.reuters.com/technology/artificial-intelligence/microsoft-developing-ai-reasoning-models-compete-with-openai-information-reports-2025-03-07/)',\n",
       "  'score': 0.91023487},\n",
       " {'title': 'Top 5 AI trends in March 2025: AI agents, smarter supply chains ...',\n",
       "  'url': 'https://www.neudesic.com/blog/top-5-ai-trends-march-2025/',\n",
       "  'content': 'March 2025 has brought a fresh wave of AI innovations that go beyond theoretical breakthroughs and translate directly into real-world impact. From OpenAI’s newly released tools for building AI agents to Microsoft’s external knowledge integration approach, this month’s highlights underscore how artificial intelligence is evolving in ways that matter today, not just tomorrow. Whether it’s optimizing supply chains, pushing the limits of robotics, or making AI systems smarter and more trustworthy, [...] Below, we delve into five top AI trends from March 2025 and explore the practical ways they’re changing industries—from retail to robotics—and setting the stage for what’s ahead.\\xa0\\n\\n## 1. OpenAI Releases New Tools for Building AI Agents [...] natural way in a variety of domains.\\xa0 The investment in physical AI, like Gemini Robotics, holds the potential to revolutionize industries such as manufacturing and healthcare, by enabling robots to take on tasks that require both complicated instructions and advanced motor skills.',\n",
       "  'score': 0.9020676},\n",
       " {'title': 'Weekly AI News: 3 March 2025 - AIforBusiness.net - LinkedIn',\n",
       "  'url': 'https://www.linkedin.com/pulse/weekly-ai-news-3-march-2025-aiforbusinessnet-johan-steyn-qrumf',\n",
       "  'content': \"This week's AI update explores some of the most impactful developments shaping technology and society. OpenAI has unveiled GPT-4.5, a cutting-\",\n",
       "  'score': 0.89121616},\n",
       " {'title': 'GPT 4.5 is out! — Weekly AI Newsletter (March 3rd 2025) - Medium',\n",
       "  'url': 'https://medium.com/nlplanet/gpt-4-5-is-out-weekly-ai-newsletter-march-3rd-2025-6b31dd83ca60',\n",
       "  'content': '## Anthropic releases Claude 3.7 Sonnet, OpenAI expands Deep Research for Plus users, and Google launches new code assistant\\n\\n![Fabio Chiusano](https://miro.medium.com/v2/resize:fill:64:64/1*K94qaJ8ErK2EgeZvhChTUQ.png)\\n\\n--\\n\\nListen\\n\\nShare\\n\\n![]()\\n\\n# 😎 News From The Web\\n\\n# 📚 Guides From The Web\\n\\n# 🔬 Interesting Papers and Repositories\\n\\n# ✨ Extra Content\\n\\nThank you for reading!\\n\\n--\\n\\n-- [...] Explanations of AI, machine learning, news, guides, courses, papers, and more. [...] ![](https://miro.medium.com/v2/resize:fill:64:64/1*dmbNkD5D-u45r44go_cf0g.png)\\n\\n## Generative AI',\n",
       "  'score': 0.86632514},\n",
       " {'title': 'AI Weekly Digest - March 3 2025 - LinkedIn',\n",
       "  'url': 'https://www.linkedin.com/pulse/ai-weekly-digest-march-3-2025-pa-media-ddmie',\n",
       "  'content': 'The swift rise of AI startup DeepSeek in its home Chinese market continues to make a major impact, reports from China stated, with a number of',\n",
       "  'score': 0.86052185}]"
      ]
     },
     "execution_count": 8,
     "metadata": {},
     "output_type": "execute_result"
    }
   ],
   "source": [
    "tavily.invoke(\"Provide me the recent AI news for march 3rd 2025\")"
   ]
  },
  {
   "cell_type": "code",
   "execution_count": 9,
   "metadata": {},
   "outputs": [],
   "source": [
    "### Combine all the tools in the list\n",
    "\n",
    "tools = [arxiv, wiki, tavily, check_retraction]"
   ]
  },
  {
   "cell_type": "code",
   "execution_count": 10,
   "metadata": {},
   "outputs": [],
   "source": [
    "## Initialize my LLM model\n",
    "\n",
    "from langchain_groq import ChatGroq\n",
    "\n",
    "llm=ChatGroq(model=\"qwen-qwq-32b\")\n",
    "\n",
    "llm_with_tools=llm.bind_tools(tools)"
   ]
  },
  {
   "cell_type": "code",
   "execution_count": 11,
   "metadata": {},
   "outputs": [
    {
     "data": {
      "text/plain": [
       "AIMessage(content='', additional_kwargs={'reasoning_content': 'Okay, the user is asking for recent AI news. I need to figure out which tool to use here. Let\\'s look at the available functions. There\\'s arxiv, which is for academic papers, wikipedia for encyclopedic info, and tavily_search_results_json, which sounds like a general web search. Since they want recent news, Wikipedia might not be the best because it\\'s not real-time. Arxiv is more for research papers, which might not cover the latest news. The Tavily search function seems the most suitable because it can provide current search results. I\\'ll go with Tavily and use the query \"latest AI news\" to get the most recent information.\\n', 'tool_calls': [{'id': 'mscv0dwwh', 'function': {'arguments': '{\"query\":\"latest AI news\"}', 'name': 'tavily_search_results_json'}, 'type': 'function'}]}, response_metadata={'token_usage': {'completion_tokens': 169, 'prompt_tokens': 268, 'total_tokens': 437, 'completion_time': 0.413821062, 'prompt_time': 0.018654738, 'queue_time': 0.112083975, 'total_time': 0.4324758}, 'model_name': 'qwen-qwq-32b', 'system_fingerprint': 'fp_1e88ca32eb', 'finish_reason': 'tool_calls', 'logprobs': None}, id='run--b5fff352-2531-4ca1-bb5e-045860a5584d-0', tool_calls=[{'name': 'tavily_search_results_json', 'args': {'query': 'latest AI news'}, 'id': 'mscv0dwwh', 'type': 'tool_call'}], usage_metadata={'input_tokens': 268, 'output_tokens': 169, 'total_tokens': 437})"
      ]
     },
     "execution_count": 11,
     "metadata": {},
     "output_type": "execute_result"
    }
   ],
   "source": [
    "from pprint import pprint\n",
    "from langchain_core.messages import AIMessage, HumanMessage\n",
    "llm_with_tools.invoke([HumanMessage(content=f\"What is the recent AI News\")])"
   ]
  },
  {
   "cell_type": "code",
   "execution_count": 12,
   "metadata": {},
   "outputs": [
    {
     "data": {
      "text/plain": [
       "[{'name': 'tavily_search_results_json',\n",
       "  'args': {'query': 'latest AI news'},\n",
       "  'id': 'mvwtj9qd3',\n",
       "  'type': 'tool_call'}]"
      ]
     },
     "execution_count": 12,
     "metadata": {},
     "output_type": "execute_result"
    }
   ],
   "source": [
    "llm_with_tools.invoke([HumanMessage(content=f\"What is the recent AI News\")]).tool_calls"
   ]
  },
  {
   "cell_type": "code",
   "execution_count": 13,
   "metadata": {},
   "outputs": [],
   "source": [
    "## State Schema\n",
    "from typing_extensions import TypedDict\n",
    "from langchain_core.messages import AnyMessage\n",
    "from typing import Annotated\n",
    "from langgraph.graph.message import add_messages\n",
    "class State(TypedDict):\n",
    "    messages:Annotated[list[AnyMessage],add_messages]"
   ]
  },
  {
   "cell_type": "code",
   "execution_count": 14,
   "metadata": {},
   "outputs": [
    {
     "data": {
      "image/png": "[encoded data removed]",
      "text/plain": [
       "<IPython.core.display.Image object>"
      ]
     },
     "metadata": {},
     "output_type": "display_data"
    }
   ],
   "source": [
    "### Entire Chatbot With LangGraph\n",
    "from IPython.display import Image, display\n",
    "from langgraph.graph import StateGraph, START, END\n",
    "from langgraph.prebuilt import ToolNode\n",
    "from langgraph.prebuilt import tools_condition\n",
    "\n",
    "### Node definition\n",
    "def tool_calling_llm(state:State):\n",
    "    return {\"messages\":[llm_with_tools.invoke(state[\"messages\"])]}\n",
    "\n",
    "# Build graph\n",
    "builder = StateGraph(State)\n",
    "builder.add_node(\"tool_calling_llm\", tool_calling_llm)\n",
    "builder.add_node(\"tools\", ToolNode(tools))\n",
    "\n",
    "builder.add_edge(START, \"tool_calling_llm\")\n",
    "builder.add_conditional_edges(\n",
    "    \"tool_calling_llm\",\n",
    "    # If the latest message (result) from assistant is a tool call -> tools_condition routes to tools\n",
    "    # If the latest message (result) from assistant is a not a tool call -> tools_condition routes to END\n",
    "    tools_condition,\n",
    ")\n",
    "builder.add_edge(\"tools\", END)\n",
    "\n",
    "\n",
    "graph = builder.compile()\n",
    "\n",
    "# View\n",
    "display(Image(graph.get_graph().draw_mermaid_png()))\n"
   ]
  },
  {
   "cell_type": "code",
   "execution_count": 15,
   "metadata": {},
   "outputs": [
    {
     "name": "stdout",
     "output_type": "stream",
     "text": [
      "================================\u001b[1m Human Message \u001b[0m=================================\n",
      "\n",
      "1706.03762\n",
      "==================================\u001b[1m Ai Message \u001b[0m==================================\n",
      "Tool Calls:\n",
      "  arxiv (8gzv6kzkz)\n",
      " Call ID: 8gzv6kzkz\n",
      "  Args:\n",
      "    query: 1706.03762\n",
      "=================================\u001b[1m Tool Message \u001b[0m=================================\n",
      "Name: arxiv\n",
      "\n",
      "Published: 2023-08-02\n",
      "Title: Attention Is All You Need\n",
      "Authors: Ashish Vaswani, Noam Shazeer, Niki Parmar, Jakob Uszkoreit, Llion Jones, Aidan N. Gomez, Lukasz Kaiser, Illia Polosukhin\n",
      "Summary: The dominant sequence transduction models are based on complex recurrent or\n",
      "convolutional neural networks in an encoder-decoder configuration. The best\n",
      "performing models also connect the encoder and decoder through an attention\n",
      "mechanism. We propose a new simple network architecture, the Transformer, base\n"
     ]
    }
   ],
   "source": [
    "messages=graph.invoke({\"messages\":HumanMessage(content=\"1706.03762\")})\n",
    "for m in messages['messages']:\n",
    "    m.pretty_print()"
   ]
  },
  {
   "cell_type": "code",
   "execution_count": 16,
   "metadata": {},
   "outputs": [
    {
     "name": "stdout",
     "output_type": "stream",
     "text": [
      "================================\u001b[1m Human Message \u001b[0m=================================\n",
      "\n",
      "Provide me the top 10 recent AI news for MArch 3rd 2025\n",
      "==================================\u001b[1m Ai Message \u001b[0m==================================\n",
      "Tool Calls:\n",
      "  tavily_search_results_json (e9cvgvc6q)\n",
      " Call ID: e9cvgvc6q\n",
      "  Args:\n",
      "    query: top 10 recent AI news March 3rd 2025\n",
      "=================================\u001b[1m Tool Message \u001b[0m=================================\n",
      "Name: tavily_search_results_json\n",
      "\n",
      "[{\"title\": \"AI Pulse News Roundup (March 2025 Edition) - Community\", \"url\": \"https://community.openai.com/t/ai-pulse-news-roundup-march-2025-edition/1132414\", \"content\": \"Newsguard tested ten leading AI services, including OpenAI's ChatGPT, xAI's Grok, Google's Gemini, Microsoft's Copilot, and Anthropic's Claude.\", \"score\": 0.8889231}, {\"title\": \"Latest AI Breakthroughs and News: May-June 2025 - Crescendo.ai\", \"url\": \"https://www.crescendo.ai/news/latest-ai-news-and-updates\", \"content\": \"### **Meta Platforms Overhauls Content Moderation Policies**\\n\\n**Date:** March 3, 2025\\n\\n**Summary:** **Meta**, led by CEO **Mark Zuckerberg**, has implemented significant policy changes, including replacing third-party fact-checking with **community notes** and relaxing hate speech policies. These changes aim to promote open discussions but have sparked criticism from various communities. [...] **Summary**: Meta CEO Mark Zuckerberg announced plans to invest up to $65 billion in artificial intelligence throughout 2025. A significant portion of this investment is allocated for the completion of a major AI data center in Louisiana. This facility is expected to support Meta's AI initiatives, including the development of the Llama large language model, and underscores the company's commitment to advancing AI technologies. [...] **Source:** [News-Medical](https://www.news-medical.net/news/20250307/Insilico-Medicines-AI-driven-drug-Rentosertib-receives-official-generic-name.aspx)\\n\\n### **Meta Expands Voice-Powered AI with LLaMA 4**\\n\\n**Date:** March 7, 2025\", \"score\": 0.87981987}, {\"title\": \"Top 10 in Tech – March 2025 - Digitopia\", \"url\": \"https://digitopia.co/blog/top-10-in-tech-march-2025/\", \"content\": \"**Source:** [Forbes](https://www.forbes.com/sites/tonybradley/2025/03/25/empowering-independent-healthcare-providers-through-technology/?ss=digitaltransformation)\\n\\n**4-****Alibaba launches new open-source AI model for ‘cost-effective AI agents’** [...] Alibaba Cloud has launched “Qwen2.5-Omni-7B,” a powerful multimodal AI model that processes text, images, audio, and video, offering real-time text and speech responses. Designed for edge devices, it supports cost-effective AI agents like voice assistants and is open-sourced on Hugging Face and GitHub. This release comes amid a surge in China’s generative AI competition, sparked by DeepSeek’s open-source momentum. Alibaba is investing $53 billion over three years in AI and cloud infrastructure, [...] McDonald’s is modernizing its 43,000 restaurants with AI and edge computing to improve order accuracy, reduce equipment failures, and enhance staff and customer experiences. Partnering with Google Cloud, the company is deploying sensors and AI tools to monitor kitchen operations, predict maintenance issues, and enable voice AI at drive-throughs. It’s also developing a generative AI virtual manager to assist with tasks like scheduling. These efforts aim to boost efficiency, reduce stress for\", \"score\": 0.8506799}, {\"title\": \"March 2025: All AI updates from the past month - SD Times\", \"url\": \"https://sdtimes.com/ai/march-2025-all-ai-updates-from-the-past-month/\", \"content\": \"Google releases reasoning model Gemini 2.5, its “most intelligent AI model” yet · OpenAI announces 4o Image Generation · Microsoft unveils new\", \"score\": 0.81524754}]\n"
     ]
    }
   ],
   "source": [
    "messages=graph.invoke({\"messages\":HumanMessage(content=\"Provide me the top 10 recent AI news for MArch 3rd 2025\")})\n",
    "for m in messages['messages']:\n",
    "    m.pretty_print()"
   ]
  },
  {
   "cell_type": "code",
   "execution_count": 17,
   "metadata": {},
   "outputs": [
    {
     "name": "stdout",
     "output_type": "stream",
     "text": [
      "================================\u001b[1m Human Message \u001b[0m=================================\n",
      "\n",
      "What is machine learning\n",
      "==================================\u001b[1m Ai Message \u001b[0m==================================\n",
      "Tool Calls:\n",
      "  wikipedia (v61m1hnba)\n",
      " Call ID: v61m1hnba\n",
      "  Args:\n",
      "    query: machine learning\n",
      "=================================\u001b[1m Tool Message \u001b[0m=================================\n",
      "Name: wikipedia\n",
      "\n",
      "Page: Machine learning\n",
      "Summary: Machine learning (ML) is a field of study in artificial intelligence concerned with the development and study of statistical algorithms that can learn from data and generalise to unseen data, and thus perform tasks without explicit instructions. Within a subdiscipline in machine learning, advances in the field of deep learning have allowed neural networks, a class of statistical algorithms, to surpass many previous machine learning approaches in performance.\n",
      "ML fi\n"
     ]
    }
   ],
   "source": [
    "messages=graph.invoke({\"messages\":HumanMessage(content=\"What is machine learning\")})\n",
    "for m in messages['messages']:\n",
    "    m.pretty_print()"
   ]
  },
  {
   "cell_type": "code",
   "execution_count": 18,
   "metadata": {},
   "outputs": [
    {
     "data": {
      "image/png": "[encoded data removed]",
      "text/plain": [
       "<IPython.core.display.Image object>"
      ]
     },
     "metadata": {},
     "output_type": "display_data"
    }
   ],
   "source": [
    "# --- Imports ---\n",
    "import os\n",
    "from dotenv import load_dotenv\n",
    "\n",
    "from langchain_community.tools import ArxivQueryRun, WikipediaQueryRun\n",
    "from langchain_community.utilities import WikipediaAPIWrapper, ArxivAPIWrapper\n",
    "from langchain_community.tools.tavily_search import TavilySearchResults\n",
    "from langchain_core.tools import tool\n",
    "from langchain_groq import ChatGroq\n",
    "\n",
    "from langchain_core.messages import HumanMessage, AnyMessage\n",
    "from typing_extensions import TypedDict\n",
    "from typing import Annotated\n",
    "from langgraph.graph.message import add_messages\n",
    "from langgraph.graph import StateGraph, START, END\n",
    "from langgraph.prebuilt import ToolNode, tools_condition\n",
    "\n",
    "from IPython.display import Image, display\n",
    "\n",
    "# --- Load environment variables ---\n",
    "load_dotenv()\n",
    "os.environ[\"TAVILY_API_KEY\"] = os.getenv(\"TAVILY_API_KEY\")\n",
    "os.environ[\"GROQ_API_KEY\"] = os.getenv(\"GROQ_API_KEY\")\n",
    "\n",
    "import requests\n",
    "from langchain_core.tools import tool\n",
    "\n",
    "@tool\n",
    "def check_retraction(paper_title: str) -> str:\n",
    "    \"\"\"Checks Crossref to see if a paper with the given title has been retracted.\"\"\"\n",
    "    print(f\"Querying Crossref for retraction info on: {paper_title}\")\n",
    "    try:\n",
    "        url = \"https://api.crossref.org/works\"\n",
    "        params = {\n",
    "            \"query.title\": paper_title,\n",
    "            \"filter\": \"relation.type:retracted-by\",\n",
    "            \"rows\": 5\n",
    "        }\n",
    "        response = requests.get(url, params=params, timeout=10)\n",
    "        data = response.json()\n",
    "\n",
    "        # Check if any items were returned with retraction relation\n",
    "        items = data.get(\"message\", {}).get(\"items\", [])\n",
    "\n",
    "        if not items:\n",
    "            return f\"The paper '{paper_title}' is not listed as retracted in Crossref.\"\n",
    "\n",
    "        # Extract and show retraction info\n",
    "        retracted_titles = [item.get(\"title\", [\"Unknown\"])[0] for item in items]\n",
    "        return f\"The paper '{paper_title}' **has been retracted**. Related title(s) found: {', '.join(retracted_titles)}\"\n",
    "\n",
    "    except Exception as e:\n",
    "        return f\"Error checking retraction status: {str(e)}\"\n",
    "\n",
    "\n",
    "# --- Initialize tools ---\n",
    "arxiv = ArxivQueryRun(api_wrapper=ArxivAPIWrapper(top_k_results=2, doc_content_chars_max=500))\n",
    "wiki = WikipediaQueryRun(api_wrapper=WikipediaAPIWrapper(top_k_results=1, doc_content_chars_max=500))\n",
    "tavily = TavilySearchResults()\n",
    "\n",
    "tools = [arxiv, wiki, tavily, check_retraction]\n",
    "\n",
    "# --- LLM setup ---\n",
    "llm = ChatGroq(model=\"qwen-qwq-32b\")\n",
    "llm_with_tools = llm.bind_tools(tools)\n",
    "\n",
    "# --- LangGraph state ---\n",
    "class State(TypedDict):\n",
    "    messages: Annotated[list[AnyMessage], add_messages]\n",
    "\n",
    "def tool_calling_llm(state: State):\n",
    "    return {\"messages\": [llm_with_tools.invoke(state[\"messages\"])]}\n",
    "\n",
    "# --- Build LangGraph ---\n",
    "builder = StateGraph(State)\n",
    "builder.add_node(\"tool_calling_llm\", tool_calling_llm)\n",
    "builder.add_node(\"tools\", ToolNode(tools))\n",
    "builder.add_edge(START, \"tool_calling_llm\")\n",
    "builder.add_conditional_edges(\"tool_calling_llm\", tools_condition)\n",
    "builder.add_edge(\"tools\", END)\n",
    "\n",
    "graph = builder.compile()\n",
    "display(Image(graph.get_graph().draw_mermaid_png()))"
   ]
  },
  {
   "cell_type": "code",
   "execution_count": 21,
   "metadata": {},
   "outputs": [
    {
     "name": "stdout",
     "output_type": "stream",
     "text": [
      "Checking retraction database for: AI based vision inspection for manufacturing industries\n",
      "Assistant did not return a message directly.\n",
      "Tools used:\n",
      "- check_retraction\n",
      "Tool result: The paper 'AI based vision inspection for manufacturing industries' is not listed as retracted.\n"
     ]
    }
   ],
   "source": [
    "query = \"Check if the paper 'AI based vision inspection for manufacturing industries' has been retracted\"\n",
    "\n",
    "response = graph.invoke({\"messages\": [HumanMessage(content=query)]})\n",
    "\n",
    "# Print assistant message if it exists\n",
    "assistant_message = None\n",
    "tool_outputs = []\n",
    "\n",
    "for m in response[\"messages\"]:\n",
    "    if m.type == \"ai\":\n",
    "        assistant_message = getattr(m, \"content\", \"\").strip()\n",
    "\n",
    "        # Collect tool call names\n",
    "        if hasattr(m, \"tool_calls\") and m.tool_calls:\n",
    "            for call in m.tool_calls:\n",
    "                tool_outputs.append(call[\"name\"])\n",
    "\n",
    "# Print assistant message or fallback to tool output\n",
    "if assistant_message:\n",
    "    print(\"Assistant:\", assistant_message)\n",
    "else:\n",
    "    print(\"Assistant did not return a message directly.\")\n",
    "\n",
    "# Print tool usage\n",
    "if tool_outputs:\n",
    "    print(\"Tools used:\")\n",
    "    for tool in tool_outputs:\n",
    "        print(\"-\", tool)\n",
    "\n",
    "# OPTIONAL: Extract the actual tool output from the last message (if available)\n",
    "# ToolNode automatically appends the result as a new message\n",
    "for m in response[\"messages\"]:\n",
    "    if m.type == \"tool\":\n",
    "        print(\"Tool result:\", m.content)\n"
   ]
  },
  {
   "cell_type": "code",
   "execution_count": null,
   "metadata": {},
   "outputs": [],
   "source": []
  }
 ],
 "metadata": {
  "kernelspec": {
   "display_name": "Python 3",
   "language": "python",
   "name": "python3"
  },
  "language_info": {
   "codemirror_mode": {
    "name": "ipython",
    "version": 3
   },
   "file_extension": ".py",
   "mimetype": "text/x-python",
   "name": "python",
   "nbconvert_exporter": "python",
   "pygments_lexer": "ipython3",
   "version": "3.11.7"
  }
 },
 "nbformat": 4,
 "nbformat_minor": 2
}
